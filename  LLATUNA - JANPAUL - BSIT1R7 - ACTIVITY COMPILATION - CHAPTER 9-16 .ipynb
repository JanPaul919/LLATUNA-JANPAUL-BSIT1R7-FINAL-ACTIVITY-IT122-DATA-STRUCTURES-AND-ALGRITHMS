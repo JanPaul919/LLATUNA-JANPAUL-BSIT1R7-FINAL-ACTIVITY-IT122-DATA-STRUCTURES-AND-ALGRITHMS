{
 "cells": [
  {
   "cell_type": "code",
   "execution_count": 15,
   "id": "04ed098b-4567-45da-b8f1-6a1c6e063fe9",
   "metadata": {},
   "outputs": [
    {
     "name": "stdout",
     "output_type": "stream",
     "text": [
      "Discuss your learnings on from Chapter 9 to Chapter 17\n",
      "\n",
      "CHAPTER 9 Learnings: \n",
      "\n",
      "Graphs is a common data structures that consists of a finite set of nodes and a set of edges connecting them.\n",
      "Graphs are used to solve real-life problems that involve representation of the problem space as a network such as telephone networks and social networks\n",
      "Each node can be a structure that contains information like user’s ID, name, address, gender, contact  and many more. There are 2 types of graphs: Directed and Undirected graph.\n",
      "Directed graph – In directed graph, nodes connected by directed edges – they only go in one direction. For example, if an edge connects node 1 and 2, but the arrow head points towards 2, we can only traverse from node 1 to node 2- not in the opposite direction.\n",
      "- There is a direction in the way two nodes are connected. Example is flight routes between two cities.\n"
     ]
    }
   ],
   "source": [
    "print(\"Discuss your learnings on from Chapter 9 to Chapter 17\")\n",
    "print(\"\")\n",
    "print(\"CHAPTER 9 Learnings: \")\n",
    "print(\"\")\n",
    "print(\"Graphs is a common data structures that consists of a finite set of nodes and a set of edges connecting them.\")\n",
    "print(\"Graphs are used to solve real-life problems that involve representation of the problem space as a network such as telephone networks and social networks\")\n",
    "print(\"Each node can be a structure that contains information like user’s ID, name, address, gender, contact  and many more. There are 2 types of graphs: Directed and Undirected graph.\")\n",
    "print(\"Directed graph – In directed graph, nodes connected by directed edges – they only go in one direction. For example, if an edge connects node 1 and 2, but the arrow head points towards 2, we can only traverse from node 1 to node 2- not in the opposite direction.\")\n",
    "print(\"- There is a direction in the way two nodes are connected. Example is flight routes between two cities.\")\n"
   ]
  },
  {
   "cell_type": "code",
   "execution_count": 18,
   "id": "e4685ea4-7d3b-4df4-a9ca-b69ee91f6feb",
   "metadata": {},
   "outputs": [
    {
     "name": "stdout",
     "output_type": "stream",
     "text": [
      "CHAPTER 10 Learnings: \n",
      "\n",
      "Binary search is a popular search algorithm that find an element using log(n) time complexity. This search algorithm works on the principle divide and conquer. For this algorithm to work properly, the data collection should be in the sorted form. For a binary search to work, it is mandatory for the target array to be sorted. \n",
      "Binary search – search a sorted array by repeatedly dividing the search interval in half. Begin with an interval covering the whole array. If the value of the search key is less than the middle item if the interval, barrow the interval to the lower half. Otherwise, narrow it to the upper half. Repeatedly check until the value is found or the interval is empty.\n",
      "Binary search has a huge advantage of time complexity over linear search. Linear search has worst-case complexity of O(n) whereas binary search has O(logn).\n",
      "Binary search looks for a particular item by comparing the middle most item of the collection. If a match occurs is greater than the item, then the item is searched in the sub-array to the left of the middle item. Otherwise, the item is searched for in the sub-array to the right of the middle item. This process continues on the sub-array as well until the size of the sub-array reduces to zero.\n"
     ]
    }
   ],
   "source": [
    "print(\"CHAPTER 10 Learnings: \")\n",
    "print(\"\")\n",
    "print(\"Binary search is a popular search algorithm that find an element using log(n) time complexity. This search algorithm works on the principle divide and conquer. For this algorithm to work properly, the data collection should be in the sorted form. For a binary search to work, it is mandatory for the target array to be sorted. \")\n",
    "print(\"Binary search – search a sorted array by repeatedly dividing the search interval in half. Begin with an interval covering the whole array. If the value of the search key is less than the middle item if the interval, barrow the interval to the lower half. Otherwise, narrow it to the upper half. Repeatedly check until the value is found or the interval is empty.\")\n",
    "print(\"Binary search has a huge advantage of time complexity over linear search. Linear search has worst-case complexity of O(n) whereas binary search has O(logn).\")\n",
    "print(\"Binary search looks for a particular item by comparing the middle most item of the collection. If a match occurs is greater than the item, then the item is searched in the sub-array to the left of the middle item. Otherwise, the item is searched for in the sub-array to the right of the middle item. This process continues on the sub-array as well until the size of the sub-array reduces to zero.\")"
   ]
  },
  {
   "cell_type": "code",
   "execution_count": 19,
   "id": "617dbd79-e377-4544-b3ca-eaccad4dde0c",
   "metadata": {},
   "outputs": [
    {
     "name": "stdout",
     "output_type": "stream",
     "text": [
      "CHAPTER 11 Learnings: \n",
      "\n",
      "Bubble sort is a sorting technique used to sort a list or an array. In data structures and algorithm tutorials, this technique is covered as the most common technique for performing a sorting. It performs sorting in O(n^2) time complexity so it is not the most efficient but is probably a very simple technique to understand. \n",
      "If the given array has to be sorted in ascending order, then bubble sort will start by comparing the first element, if the first element is greater than the second element, it will swap both the elements, and then move on to compare the second and the third element and so on. \n",
      "To optimize bubble sort algorithm, we can introduce a flag to monitor whether elements are getting swapped inside the inner for loop.\n"
     ]
    }
   ],
   "source": [
    "print(\"CHAPTER 11 Learnings: \")\n",
    "print(\"\")\n",
    "print(\"Bubble sort is a sorting technique used to sort a list or an array. In data structures and algorithm tutorials, this technique is covered as the most common technique for performing a sorting. It performs sorting in O(n^2) time complexity so it is not the most efficient but is probably a very simple technique to understand. \")\n",
    "print(\"If the given array has to be sorted in ascending order, then bubble sort will start by comparing the first element, if the first element is greater than the second element, it will swap both the elements, and then move on to compare the second and the third element and so on. \")\n",
    "print(\"To optimize bubble sort algorithm, we can introduce a flag to monitor whether elements are getting swapped inside the inner for loop.\")"
   ]
  },
  {
   "cell_type": "code",
   "execution_count": 20,
   "id": "ac9eb172-2209-4f9f-b618-02be969444e5",
   "metadata": {},
   "outputs": [
    {
     "name": "stdout",
     "output_type": "stream",
     "text": [
      "CHAPTER 12 Learnings: \n",
      "\n",
      "Quick sort is a highly efficient sorting algorithm and is based on partitioning of array of data into smaller arrays. A large array is partitioned into two arrays one of which holds values smaller than the specified value, say pivot, based on which the partition is made and another array holds values greater than the pivot value.\n",
      "Quicksort partitions an array and then calls itself recursively twice to sort the two resulting subarrays. This algorithm is quite efficient for large-sized data sets as its average and worst-case complexity are O(n2), respectively.\n",
      "The key process in quickSort is partition(). Target of partitions is, given an array and an element x of array as pivot, put x at its correct position in sorted array and put all smaller elements (smaller than x) before x, and put all greater elements (greater than x) after x. All this should be done in linear time.\n",
      "While dividing the array, the pivot element should be positioned in such a way that elements less than pivot are kept on the left side and elements greater than pivot are on the right side of the pivot. At this point, elements are already sorted. Finally, elements are combined to form a sorted array.\n"
     ]
    }
   ],
   "source": [
    "print(\"CHAPTER 12 Learnings: \")\n",
    "print(\"\")\n",
    "print(\"Quick sort is a highly efficient sorting algorithm and is based on partitioning of array of data into smaller arrays. A large array is partitioned into two arrays one of which holds values smaller than the specified value, say pivot, based on which the partition is made and another array holds values greater than the pivot value.\")\n",
    "print(\"Quicksort partitions an array and then calls itself recursively twice to sort the two resulting subarrays. This algorithm is quite efficient for large-sized data sets as its average and worst-case complexity are O(n2), respectively.\")\n",
    "print(\"The key process in quickSort is partition(). Target of partitions is, given an array and an element x of array as pivot, put x at its correct position in sorted array and put all smaller elements (smaller than x) before x, and put all greater elements (greater than x) after x. All this should be done in linear time.\")\n",
    "print(\"While dividing the array, the pivot element should be positioned in such a way that elements less than pivot are kept on the left side and elements greater than pivot are on the right side of the pivot. At this point, elements are already sorted. Finally, elements are combined to form a sorted array.\")"
   ]
  },
  {
   "cell_type": "code",
   "execution_count": 21,
   "id": "ffee1695-558e-4c03-b80f-bd231ca5f54f",
   "metadata": {},
   "outputs": [
    {
     "name": "stdout",
     "output_type": "stream",
     "text": [
      "CHAPTER 13 Learnings: \n",
      "\n",
      "Insertion sort is a simple sorting algorithm that is best for small lists. If your array is very big insertion sort might not be the perfect choice as it performs in O(n^2) time complexity.\n",
      "The array is searched sequentially and unsorted items are moved and inserted into the sorted sub-list (in the same array). This algorithm is not suitable for large data sets as its average and worst case complexity are of Ο(n2), where n is the number of items.\n",
      "To sort an array of size n in ascending order: \n",
      "1: Iterate from arr[1] to arr[n] over the array. \n",
      "2: Compare the current element (key) to its predecessor. \n",
      "3: If the key element is smaller than its predecessor, compare it to the elements before. Move the greater elements one position up to make space for the swapped element.\n",
      "Insertion sort works similarly as we sort cards in our hand in a card game. We assume that the first card is already sorted then, we select an unsorted card. If the unsorted card is greater than the card in hand, it is placed on the right otherwise, to the left. In the same way, other unsorted cards are taken and put in their right place. A similar approach is used by insertion sort.\n"
     ]
    }
   ],
   "source": [
    "print(\"CHAPTER 13 Learnings: \")\n",
    "print(\"\")\n",
    "print(\"Insertion sort is a simple sorting algorithm that is best for small lists. If your array is very big insertion sort might not be the perfect choice as it performs in O(n^2) time complexity.\")\n",
    "print(\"The array is searched sequentially and unsorted items are moved and inserted into the sorted sub-list (in the same array). This algorithm is not suitable for large data sets as its average and worst case complexity are of Ο(n2), where n is the number of items.\")\n",
    "print(\"To sort an array of size n in ascending order: \")\n",
    "print(\"1: Iterate from arr[1] to arr[n] over the array. \")\n",
    "print(\"2: Compare the current element (key) to its predecessor. \")\n",
    "print(\"3: If the key element is smaller than its predecessor, compare it to the elements before. Move the greater elements one position up to make space for the swapped element.\")\n",
    "print(\"Insertion sort works similarly as we sort cards in our hand in a card game. We assume that the first card is already sorted then, we select an unsorted card. If the unsorted card is greater than the card in hand, it is placed on the right otherwise, to the left. In the same way, other unsorted cards are taken and put in their right place. A similar approach is used by insertion sort.\")"
   ]
  },
  {
   "cell_type": "code",
   "execution_count": 22,
   "id": "8b7c5057-5a54-46f1-80e9-4ab4aadf348f",
   "metadata": {},
   "outputs": [
    {
     "name": "stdout",
     "output_type": "stream",
     "text": [
      "CHAPTER 14 Learnings: \n",
      "\n",
      "Merge sort is a sorting algorithm that gives time complexity of O(nlogn) and thus performs better than insertion sort, bubble sort etc. Merge Sort is a Divide and Conquer algorithm. It divides the input array into two halves, calls itself for the two halves, and then merges the two sorted halves. The merge() function is used for merging two halves. The merge(arr, l, m, r) is a key process that assumes that arr[l..m] and arr[m+1..r] are sorted and merges the two sorted sub-arrays into one. See the following C implementation for details.\n",
      "Merge Sort is useful for sorting linked lists in O(nLogn) time.\n",
      "Using the Divide and Conquer technique, we divide a problem into subproblems. When the solution to each subproblem is ready, we 'combine' the results from the subproblems to solve the main problem. The MergeSort function repeatedly divides the array into two halves until we reach a stage where we try to perform MergeSort on a subarray of size 1. \n",
      "Merge sort keeps on dividing the list into equal halves until it can no more be divided. By definition, if it is only one element in the list, it is sorted. Then, merge sort combines the smaller sorted lists keeping the new list sorted too.\n"
     ]
    }
   ],
   "source": [
    "print(\"CHAPTER 14 Learnings: \")\n",
    "print(\"\")\n",
    "print(\"Merge sort is a sorting algorithm that gives time complexity of O(nlogn) and thus performs better than insertion sort, bubble sort etc. Merge Sort is a Divide and Conquer algorithm. It divides the input array into two halves, calls itself for the two halves, and then merges the two sorted halves. The merge() function is used for merging two halves. The merge(arr, l, m, r) is a key process that assumes that arr[l..m] and arr[m+1..r] are sorted and merges the two sorted sub-arrays into one. See the following C implementation for details.\")\n",
    "print(\"Merge Sort is useful for sorting linked lists in O(nLogn) time.\")\n",
    "print(\"Using the Divide and Conquer technique, we divide a problem into subproblems. When the solution to each subproblem is ready, we 'combine' the results from the subproblems to solve the main problem. The MergeSort function repeatedly divides the array into two halves until we reach a stage where we try to perform MergeSort on a subarray of size 1. \")\n",
    "print(\"Merge sort keeps on dividing the list into equal halves until it can no more be divided. By definition, if it is only one element in the list, it is sorted. Then, merge sort combines the smaller sorted lists keeping the new list sorted too.\")"
   ]
  },
  {
   "cell_type": "code",
   "execution_count": 23,
   "id": "704db860-5c58-4477-8018-01ed7bc12ff5",
   "metadata": {},
   "outputs": [
    {
     "name": "stdout",
     "output_type": "stream",
     "text": [
      "CHAPTER 15 Learnings: \n",
      "\n",
      "Shell sort is a customization over insertion sort. Insertion sort requires many swaps and comparisons if heavy elements are located towards the end of an array. Shell sort will initially sort subarrays that are equal distance apart. The distance here is referred to as a gap. We will than keep on reducing the gap until it is 1. With gap=1 it becomes insertion sort but this time due to optimization we have performed earlier, sorting the array would require very less comparisons and element swaps.\n",
      "Shell sort is a highly efficient sorting algorithm and is based on insertion sort algorithm. This algorithm avoids large shifts as in case of insertion sort, if the smaller value is to the far right and has to be moved to the far left.\n",
      "ShellSort is mainly a variation of Insertion Sort. In insertion sort, we move elements only one position ahead. When an element has to be moved far ahead, many movements are involved. The idea of shellSort is to allow exchange of far items. In shellSort, we make the array h-sorted for a large value of h. We keep reducing the value of h until it becomes 1. \n"
     ]
    }
   ],
   "source": [
    "print(\"CHAPTER 15 Learnings: \")\n",
    "print(\"\")\n",
    "print(\"Shell sort is a customization over insertion sort. Insertion sort requires many swaps and comparisons if heavy elements are located towards the end of an array. Shell sort will initially sort subarrays that are equal distance apart. The distance here is referred to as a gap. We will than keep on reducing the gap until it is 1. With gap=1 it becomes insertion sort but this time due to optimization we have performed earlier, sorting the array would require very less comparisons and element swaps.\")\n",
    "print(\"Shell sort is a highly efficient sorting algorithm and is based on insertion sort algorithm. This algorithm avoids large shifts as in case of insertion sort, if the smaller value is to the far right and has to be moved to the far left.\")\n",
    "print(\"ShellSort is mainly a variation of Insertion Sort. In insertion sort, we move elements only one position ahead. When an element has to be moved far ahead, many movements are involved. The idea of shellSort is to allow exchange of far items. In shellSort, we make the array h-sorted for a large value of h. We keep reducing the value of h until it becomes 1. \")\n"
   ]
  },
  {
   "cell_type": "code",
   "execution_count": 24,
   "id": "3f40bf73-f511-444c-9c33-bdd6b43a454a",
   "metadata": {},
   "outputs": [
    {
     "name": "stdout",
     "output_type": "stream",
     "text": [
      "CHAPTER 16 Learnings: \n",
      "\n",
      "Selection sort is a simple algorithm for sorting, it gives o(n^2) BIG O complexity. In this video we will go over some theory behind selection sort and implement in python. Selection sort is a simple sorting algorithm. This sorting algorithm is an in-place comparison-based algorithm in which the list is divided into two parts, the sorted part at the left end and the unsorted part at the right end. Initially, the sorted part is empty and the unsorted part is the entire list.\n",
      "The smallest element is selected from the unsorted array and swapped with the leftmost element, and that element becomes a part of the sorted array. This process continues moving unsorted array boundary by one element to the right.\n",
      "The selection sort algorithm sorts an array by repeatedly finding the minimum element (considering ascending order) from unsorted part and putting it at the beginning. The algorithm maintains two subarrays in a given array.\n",
      "1) The subarray which is already sorted.\n",
      "2) Remaining subarray which is unsorted.\n",
      "In every iteration of selection sort, the minimum element (considering ascending order) from the unsorted subarray is picked and moved to the sorted subarray.\n"
     ]
    }
   ],
   "source": [
    "print(\"CHAPTER 16 Learnings: \")\n",
    "print(\"\")\n",
    "print(\"Selection sort is a simple algorithm for sorting, it gives o(n^2) BIG O complexity. In this video we will go over some theory behind selection sort and implement in python. Selection sort is a simple sorting algorithm. This sorting algorithm is an in-place comparison-based algorithm in which the list is divided into two parts, the sorted part at the left end and the unsorted part at the right end. Initially, the sorted part is empty and the unsorted part is the entire list.\")\n",
    "print(\"The smallest element is selected from the unsorted array and swapped with the leftmost element, and that element becomes a part of the sorted array. This process continues moving unsorted array boundary by one element to the right.\")\n",
    "print(\"The selection sort algorithm sorts an array by repeatedly finding the minimum element (considering ascending order) from unsorted part and putting it at the beginning. The algorithm maintains two subarrays in a given array.\")\n",
    "print(\"1) The subarray which is already sorted.\")\n",
    "print(\"2) Remaining subarray which is unsorted.\")\n",
    "print(\"In every iteration of selection sort, the minimum element (considering ascending order) from the unsorted subarray is picked and moved to the sorted subarray.\")\n"
   ]
  },
  {
   "cell_type": "code",
   "execution_count": 25,
   "id": "c064d3cd-dbdc-462d-bbb9-16127a816de8",
   "metadata": {},
   "outputs": [
    {
     "name": "stdout",
     "output_type": "stream",
     "text": [
      "CHAPTER 17 Learnings: \n",
      "\n",
      "In simple words, recursion is a problem solving, and in some cases, a programming technique that has a very special and exclusive property. In recursion, a function or method has the ability of calling itself to solve the problem. The process of recursion involves solving a problem by turning it into smaller varieties of itself. The process in which a function calls itself could happen directly as well as indirectly. This difference in call gives rise to different types of recursion, which we will talk about a little later. Some of the problems that can be solved using recursion include DFS of Graph, Towers of Hanoi, Different Types of Tree Traversals, and others.  A recursive function can go infinite like a loop.\n",
      "Recursion is the process in which a function calls itself directly or indirectly is called recursion and the corresponding function is called as recursive function. Using recursive algorithm, certain problems can be solved quite easily.\n"
     ]
    }
   ],
   "source": [
    "print(\"CHAPTER 17 Learnings: \")\n",
    "print(\"\")\n",
    "print(\"In simple words, recursion is a problem solving, and in some cases, a programming technique that has a very special and exclusive property. In recursion, a function or method has the ability of calling itself to solve the problem. The process of recursion involves solving a problem by turning it into smaller varieties of itself. The process in which a function calls itself could happen directly as well as indirectly. This difference in call gives rise to different types of recursion, which we will talk about a little later. Some of the problems that can be solved using recursion include DFS of Graph, Towers of Hanoi, Different Types of Tree Traversals, and others.  A recursive function can go infinite like a loop.\")\n",
    "print(\"Recursion is the process in which a function calls itself directly or indirectly is called recursion and the corresponding function is called as recursive function. Using recursive algorithm, certain problems can be solved quite easily.\")\n"
   ]
  },
  {
   "cell_type": "code",
   "execution_count": 26,
   "id": "1b93f399-f804-404c-b6d6-7630d0498b22",
   "metadata": {},
   "outputs": [
    {
     "name": "stdout",
     "output_type": "stream",
     "text": [
      "\n",
      "\n",
      "Answer the following questions:\n"
     ]
    }
   ],
   "source": [
    "print(\"\")\n",
    "print(\"\")\n",
    "print(\"Answer the following questions:\")"
   ]
  },
  {
   "cell_type": "code",
   "execution_count": 53,
   "id": "a4cb00f3-6223-4f95-86b4-b0ce0f651d9e",
   "metadata": {},
   "outputs": [
    {
     "name": "stdout",
     "output_type": "stream",
     "text": [
      "\n",
      "Implement the simple methods get_num and get_den that will return the numerator and denominator of a fraction.\n",
      "\n",
      "Numerator:  4\n",
      "Denominator:  2\n"
     ]
    }
   ],
   "source": [
    "print(\"\")\n",
    "print(\"Implement the simple methods get_num and get_den that will return the numerator and denominator of a fraction.\")\n",
    "print(\"\")\n",
    "def get_num(num1):\n",
    "    return num1\n",
    "def get_den(den1):\n",
    "    return den1\n",
    "\n",
    "num = 4\n",
    "den = 2\n",
    "\n",
    "print(\"Numerator: \",get_num(num))\n",
    "print(\"Denominator: \",get_den(den))\n"
   ]
  },
  {
   "cell_type": "code",
   "execution_count": 54,
   "id": "c92ec4a8-b7af-46b9-beb7-bd88ed31206f",
   "metadata": {},
   "outputs": [
    {
     "name": "stdout",
     "output_type": "stream",
     "text": [
      "\n",
      "Research the __radd__ method. How does it differ from __add__? When is it used? Implement __radd__\n",
      "\n",
      "__add__ is to take an input string and then return an instance which contains the data and concatenate it while __radd__ adds the string first then the user-defined class comes next to it.\n",
      "\n",
      "<__main__.Upper object at 0x000001ABC1488040>\n"
     ]
    }
   ],
   "source": [
    "print(\"\")\n",
    "print(\"Research the __radd__ method. How does it differ from __add__? When is it used? Implement __radd__\")\n",
    "print(\"\")\n",
    "\n",
    "print(\"__add__ is to take an input string and then return an instance which contains the data and concatenate it while __radd__ adds the string first then the user-defined class comes next to it.\")\n",
    "print(\"\")\n",
    "class Upper:\n",
    "    def __init__(self, initial):\n",
    "        self.data = initial.upper()\n",
    "    def __add__(self,other):\n",
    "        return Upper(self.data + other)\n",
    "\n",
    "u = Upper('Nani')\n",
    "\n",
    "a = u+\"Who knows\" \n",
    "\n",
    "print(a)\n",
    "\n",
    "\n"
   ]
  },
  {
   "cell_type": "code",
   "execution_count": 55,
   "id": "12c6db89-a47a-4761-b5dc-39f12a84e95e",
   "metadata": {},
   "outputs": [
    {
     "name": "stdout",
     "output_type": "stream",
     "text": [
      "\n",
      "Research the __repr__ method. How does it differ from __str__? When is it used? Implement __repr__.\n",
      "\n",
      ". __repr__ goal is to be unambiguous while __str__ goal is to be readable\n",
      "\n",
      "Instance Name of class User\n"
     ]
    }
   ],
   "source": [
    "print(\"\")\n",
    "print(\"Research the __repr__ method. How does it differ from __str__? When is it used? Implement __repr__.\")\n",
    "print(\"\")\n",
    "print(\". __repr__ goal is to be unambiguous while __str__ goal is to be readable\")\n",
    "print(\"\")\n",
    "class User:\n",
    "    def __init__(self, name):\n",
    "        self.username = name\n",
    "    def __repr__(self):\n",
    "        return 'Instance {} of class User'.format(self.username)\n",
    "\n",
    "lp = User('Name')\n",
    "\n",
    "print(lp)\n"
   ]
  },
  {
   "cell_type": "code",
   "execution_count": 56,
   "id": "00ac8f90-ccb8-401c-a454-6ed448c3b5e6",
   "metadata": {},
   "outputs": [
    {
     "name": "stdout",
     "output_type": "stream",
     "text": [
      "\n",
      "The most simple arithmetic circuit is known as the half adder. Research the simple half-adder circuit. Implement this circuit.\n",
      "\n",
      "The SUM is:   88\n",
      "CARRY is:     36\n"
     ]
    }
   ],
   "source": [
    "print(\"\")\n",
    "print(\"The most simple arithmetic circuit is known as the half adder. Research the simple half-adder circuit. Implement this circuit.\")\n",
    "print(\"\")\n",
    "def getResult(X, Y):\n",
    "\tSum = X ^ Y\n",
    "\tCarry = X & Y\n",
    "\tprint(\"The SUM is:  \", Sum)\n",
    "\tprint(\"CARRY is:    \", Carry)\n",
    "\n",
    "X = 100\n",
    "Y = 60\n",
    "getResult(X, Y)\n"
   ]
  },
  {
   "cell_type": "raw",
   "id": "214bec00-ac5d-4f81-bffd-5261e74d5dde",
   "metadata": {},
   "source": []
  },
  {
   "cell_type": "code",
   "execution_count": 57,
   "id": "c4e38eaa-cb4a-4e27-b69e-cf7d71a55774",
   "metadata": {},
   "outputs": [
    {
     "name": "stdout",
     "output_type": "stream",
     "text": [
      "\n",
      "Design a class to represent a playing card and another one to represent a deck of cards. Using these two classes, implement your favorite card game.\n",
      "\n"
     ]
    }
   ],
   "source": [
    "print(\"\")\n",
    "print(\"Design a class to represent a playing card and another one to represent a deck of cards. Using these two classes, implement your favorite card game.\")\n",
    "print(\"\")\n",
    "class Card(object):\n",
    "    \"\"\" Represents a standard playing card.\n",
    "    Attributes:\n",
    "        suit: Integer 0-3\n",
    "        rank: Integer 1-13\n",
    "    \"\"\"\n",
    "\n",
    "    suit_names = [\"Clubs\", \"Diamonds\", \"Hearts\", \"Spades\"]\n",
    "    rank_names = [None, \"2\", \"3\", \"4\", \"5\", \"6\", \"7\", \"8\",\n",
    "                  \"9\", \"10\", \"Jack\", \"Queen\", \"King\", \"Ace\"]\n",
    "\n",
    "    def __init__(self, suit=0, rank=1):\n",
    "        self.suit = suit\n",
    "        self.rank = rank\n",
    "\n",
    "    def __str__(self):\n",
    "        \"\"\" returns a human readable string representation \"\"\"\n",
    "        return '%s of %s' % (Card.rank_names[self.rank],\n",
    "                             Card.suit_names[self.suit])\n",
    "\n",
    "    def __lt__(self, other):\n",
    "        \"\"\" Compares this card to other, only by rank (no suit comparison)\n",
    "        Returns a positive number if this > other, negative otherwise.\n",
    "        Returns 0 if the cards are of same rank\n",
    "        \"\"\"\n",
    "        # t1 = self.rank\n",
    "        # t2 = other.rank\n",
    "        t1 = self.suit, self.rank\n",
    "        t2 = other.suit, other.rank\n",
    "        return t1 < t2\n",
    "\n",
    "    def getRank(self):\n",
    "        return self.rank"
   ]
  },
  {
   "cell_type": "code",
   "execution_count": 58,
   "id": "726b52b0-7132-48d4-be8b-53f050145754",
   "metadata": {},
   "outputs": [
    {
     "name": "stdout",
     "output_type": "stream",
     "text": [
      "\n",
      "Design and implement an experiment to do benchmark comparisons of the two queue(enqueue,dequeue) implementations. What can you learn from such an experiment?\n",
      "\n",
      "<__main__.Queue object at 0x000001ABC1488DC0>\n",
      "deque(['Harry', 'Hermione', 'Ron'])\n",
      "Adding to the right: \n",
      "deque(['Harry', 'Hermione', 'Ron', 'Ginny'])\n",
      "Adding to the left: \n",
      "deque(['Fred', 'Harry', 'Hermione', 'Ron', 'Ginny'])\n",
      "Removing from the right: \n",
      "deque(['Fred', 'Harry', 'Hermione', 'Ron'])\n",
      "Removing from the left: \n",
      "deque(['Harry', 'Hermione', 'Ron'])\n",
      "Reversing the deque: \n",
      "deque(['Ron', 'Hermione', 'Harry'])\n"
     ]
    }
   ],
   "source": [
    "print(\"\")\n",
    "print(\"Design and implement an experiment to do benchmark comparisons of the two queue(enqueue,dequeue) implementations. What can you learn from such an experiment?\")\n",
    "print(\"\")\n",
    "class Queue:\n",
    " \n",
    "  def __init__(self):\n",
    "      self.queue = list()\n",
    " \n",
    "  def addToQueue(self,value):\n",
    "# Insert method to add element\n",
    "      if value not in self.queue:\n",
    "          self.queue.insert(0,value)\n",
    "          return True\n",
    "      return False\n",
    " \n",
    "  def size(self):\n",
    "      return len(self.queue)\n",
    " \n",
    "MySuperHero = Queue()\n",
    "MySuperHero.addToQueue(\"Thor\")\n",
    "MySuperHero.addToQueue(\"Iron man\")\n",
    "MySuperHero.addToQueue(\"Hulk\")\n",
    "MySuperHero.addToQueue(\"Doctor Strange\")\n",
    "MySuperHero.addToQueue(\"Vision\")\n",
    "print(MySuperHero)\n",
    "\n",
    "import collections\n",
    " \n",
    "# Create a deque\n",
    "DoubleEnded = collections.deque([\"Harry\",\"Hermione\",\"Ron\"])\n",
    "print (DoubleEnded)\n",
    " \n",
    "# Append to the right\n",
    "print(\"Adding to the right: \")\n",
    "DoubleEnded.append(\"Ginny\")\n",
    "print (DoubleEnded)\n",
    " \n",
    "# append to the left\n",
    "print(\"Adding to the left: \")\n",
    "DoubleEnded.appendleft(\"Fred\")\n",
    "print (DoubleEnded)\n",
    " \n",
    "# Remove from the right\n",
    "print(\"Removing from the right: \")\n",
    "DoubleEnded.pop()\n",
    "print (DoubleEnded)\n",
    " \n",
    "# Remove from the left\n",
    "print(\"Removing from the left: \")\n",
    "DoubleEnded.popleft()\n",
    "print (DoubleEnded)\n",
    " \n",
    "# Reverse the dequeue\n",
    "print(\"Reversing the deque: \")\n",
    "DoubleEnded.reverse()\n",
    "print (DoubleEnded)\n"
   ]
  },
  {
   "cell_type": "code",
   "execution_count": 59,
   "id": "fe63f84a-17b1-406c-be94-f4c6d26d951b",
   "metadata": {},
   "outputs": [
    {
     "name": "stdout",
     "output_type": "stream",
     "text": [
      "\n",
      "Consider a real life situation. Formulate a question and then design a simulation that can help to answer it.\n",
      "\n",
      "Road incidents. How to minimize road incidents?\n",
      "• Avoiding over-speeding and following speed limits.\n",
      "• Avoiding drunken driving.\n",
      "• Using helmets by two-wheeler drivers.\n",
      "• Using seat belts and child restraints in cars.\n",
      "• Improving visibility, appropriate headlights and road lightings.\n",
      "• Discipline  \n"
     ]
    }
   ],
   "source": [
    "print(\"\")\n",
    "print(\"Consider a real life situation. Formulate a question and then design a simulation that can help to answer it.\")\n",
    "print(\"\")\n",
    "print(\"Road incidents. How to minimize road incidents?\")\n",
    "print(\"• Avoiding over-speeding and following speed limits.\")\n",
    "print(\"• Avoiding drunken driving.\")\n",
    "print(\"• Using helmets by two-wheeler drivers.\")\n",
    "print(\"• Using seat belts and child restraints in cars.\")\n",
    "print(\"• Improving visibility, appropriate headlights and road lightings.\")\n",
    "print(\"• Discipline  \")"
   ]
  },
  {
   "cell_type": "code",
   "execution_count": 60,
   "id": "4273ecf5-13f5-415c-bdb7-dfa5a8f92720",
   "metadata": {},
   "outputs": [
    {
     "name": "stdout",
     "output_type": "stream",
     "text": [
      "\n",
      "Implement a queue using linked lists.\n",
      "\n",
      "['Jan', 'Paul', 'Llatuna', 'Vendiola', 'one']\n",
      "Jan\n",
      "['Paul', 'Llatuna', 'Vendiola', 'one']\n",
      "Paul\n",
      "['Llatuna', 'Vendiola', 'one']\n"
     ]
    }
   ],
   "source": [
    "print(\"\")\n",
    "print(\"Implement a queue using linked lists.\")\n",
    "print(\"\")\n",
    "queue = [\"Jan\", \"Paul\", \"Llatuna\"]\n",
    "queue.append(\"Vendiola\")\n",
    "queue.append(\"one\")\n",
    "print(queue)\n",
    "  \n",
    "# Removes the first item\n",
    "print(queue.pop(0))\n",
    "  \n",
    "print(queue)\n",
    "  \n",
    "# Removes the first item\n",
    "print(queue.pop(0))\n",
    "  \n",
    "print(queue)\n",
    "\n"
   ]
  },
  {
   "cell_type": "code",
   "execution_count": 61,
   "id": "7580a423-65cf-4e8b-b52e-e821a49910a6",
   "metadata": {},
   "outputs": [
    {
     "name": "stdout",
     "output_type": "stream",
     "text": [
      "\n",
      "Write a recursive function to compute the factorial of a number.\n",
      "\n",
      "The factorial of 7 is 5040\n"
     ]
    }
   ],
   "source": [
    "print(\"\")\n",
    "print(\"Write a recursive function to compute the factorial of a number.\")\n",
    "print(\"\")\n",
    "\n",
    "def recur_factorial(n):\n",
    "   if n == 1:\n",
    "       return n\n",
    "   else:\n",
    "       return n*recur_factorial(n-1)\n",
    "\n",
    "num = 7\n",
    "\n",
    "\n",
    "print(\"The factorial of\", num, \"is\", recur_factorial(num))\n",
    "\n",
    "\n"
   ]
  },
  {
   "cell_type": "code",
   "execution_count": 62,
   "id": "b7b4806f-6bdd-447a-b0c2-3fc74d8cb83f",
   "metadata": {},
   "outputs": [
    {
     "name": "stdout",
     "output_type": "stream",
     "text": [
      "\n",
      "Set up a random experiment to test the difference between a sequential search and a binary search on a list of integers.\n",
      "\n",
      "Element is present at index 3\n",
      "(True, 3)\n"
     ]
    }
   ],
   "source": [
    "print(\"\")\n",
    "print(\"Set up a random experiment to test the difference between a sequential search and a binary search on a list of integers.\")\n",
    "print(\"\")\n",
    "def binary_search(arr, low, high, x):\n",
    " \n",
    "    # Check base case\n",
    "    if high >= low:\n",
    " \n",
    "        mid = (high + low) // 2\n",
    " \n",
    "        # If element is present at the middle itself\n",
    "        if arr[mid] == x:\n",
    "            return mid\n",
    " \n",
    "        # If element is smaller than mid, then it can only\n",
    "        # be present in left subarray\n",
    "        elif arr[mid] > x:\n",
    "            return binary_search(arr, low, mid - 1, x)\n",
    " \n",
    "        # Else the element can only be present in right subarray\n",
    "        else:\n",
    "            return binary_search(arr, mid + 1, high, x)\n",
    " \n",
    "    else:\n",
    "        # Element is not present in the array\n",
    "        return -1\n",
    " \n",
    "# Test array\n",
    "arr = [ 2, 3, 4, 10, 40 ]\n",
    "x = 10\n",
    " \n",
    "# Function call\n",
    "result = binary_search(arr, 0, len(arr)-1, x)\n",
    " \n",
    "if result != -1:\n",
    "    print(\"Element is present at index\", str(result))\n",
    "else:\n",
    "    print(\"Element is not present in array\")\n",
    "\n",
    "\n",
    "def Sequential_Search(dlist, item):\n",
    "\n",
    "    pos = 0\n",
    "    found = False\n",
    "    \n",
    "    while pos < len(dlist) and not found:\n",
    "        if dlist[pos] == item:\n",
    "            found = True\n",
    "        else:\n",
    "            pos = pos + 1\n",
    "    \n",
    "    return found, pos\n",
    "\n",
    "print(Sequential_Search([11,23,58,31,56,77,43,12,65,19],31))\n"
   ]
  },
  {
   "cell_type": "code",
   "execution_count": 63,
   "id": "8da25fc9-d7f7-4aec-890b-90bd6e2dfb47",
   "metadata": {},
   "outputs": [
    {
     "name": "stdout",
     "output_type": "stream",
     "text": [
      "\n",
      "Suppose you are a computer scientist/art thief who has broken into a major art gallery. All you have with you to haul out your stolen art is your knapsack which only holds W pounds of art, but for every piece of art you know its value and its weight. Write a dynamic programming function to help you maximize your profit. Here is a sample problem for you to use to get started: Suppose your knapsack can hold a total weight of 20. \n",
      "\n",
      "item    weight    value\n",
      " 1        2         3\n",
      " 3        4         8\n",
      " 4        5         8\n",
      " 5        9         10\n"
     ]
    }
   ],
   "source": [
    "print(\"\")\n",
    "print(\"Suppose you are a computer scientist/art thief who has broken into a major art gallery. All you have with you to haul out your stolen art is your knapsack which only holds W pounds of art, but for every piece of art you know its value and its weight. Write a dynamic programming function to help you maximize your profit. Here is a sample problem for you to use to get started: Suppose your knapsack can hold a total weight of 20. \")\n",
    "print(\"\")\n",
    "class StolenItem:\n",
    "   def __init__(self, theID, theValue, theWeight):\n",
    "      self.ID = theID\n",
    "      self.value = theValue\n",
    "      self.weight = theWeight\n",
    "\n",
    "def dpMaxProfit (itemList, knapWeight, maxProfits, weightsUsed):\n",
    "   maxProfit = 0\n",
    "\n",
    "   for knapWeights in range (knapWeight + 1):\n",
    "      print (\"KNAPWEIGHT:\", knapWeights - 1, \" \", maxProfits)\n",
    "      newItem = itemList[0]\n",
    "\n",
    "      for item in [x for x in itemList if x.weight <= knapWeights]:\n",
    "         if maxProfits[knapWeights - item.weight] + item.value > maxProfit:\n",
    "            maxProfit = maxProfits[knapWeights - item.weight] + item.value\n",
    "            newItem = item\n",
    "            maxProfits[knapWeights] = maxProfit\n",
    "            weightsUsed[knapWeights] = newItem.weight\n",
    "      return(maxProfits[knapWeight])\n",
    "\t\n",
    "def reMaxProfit(itemList, knapWeight):\n",
    "   if knapWeight < 1:\n",
    "      return 0\n",
    "\n",
    "   l1 = [x for x in itemList if x.weight <= knapWeight]\n",
    "   profitList = [(item.value + reMaxProfit(itemList, knapWeight-item.weight)) for item in l1]\n",
    "\n",
    "   if len(profitList) > 0:\n",
    "      return max(profitList)\n",
    "\n",
    "   else:\n",
    "      return 0 \n",
    "                   \n",
    "def _weightsUsed(weightList, knapWeight):\n",
    "   weight = knapWeight\n",
    "   while weight > 0:\n",
    "      print(weightList[weight])\n",
    "      weight -= weightList[weight]\n",
    "\n",
    "   recurse = True\n",
    "\n",
    "   if recurse:\n",
    "      maxProfits = [0] * (knapWeight + 1)\n",
    "      weightsUsed = [0] * (knapWeight + 1)\n",
    "\n",
    "def main():\n",
    "   itemList = [StolenItem(1,3,2), StolenItem(2,4,3), StolenItem(3,8,4), StolenItem(4,8,5), StolenItem(5,10,9)]\n",
    "   knapWeight = 20\n",
    "   if recurse:\n",
    "      maxProfits = [0] * (knapWeight + 1)\n",
    "      weightsUsed = [0] * (knapWeight + 1)\n",
    "      print(dpMaxProfit(itemList, knapWeight, maxProfits, weightsUsed))\n",
    "      print(_weightsUsed(weightsUsed, knapWeight))\n",
    "   else:\n",
    "      print (reMaxProfit(itemList, knapWeight))\n",
    "\n",
    "   if _name_ == \"_main_\":\n",
    "      main()\n",
    "\n",
    "item = [1,3,4,5]\n",
    "weight = [2,4,5,9]\n",
    "value = [3,8,8,10]\n",
    "\n",
    "print(\"item   \", \"weight   \", \"value\")\n",
    "print(\"\",item[0],\"      \",weight[0],\"       \",value[0])\n",
    "print(\"\",item[1],\"      \",weight[1],\"       \",value[1])\n",
    "print(\"\",item[2],\"      \",weight[2],\"       \",value[2])\n",
    "print(\"\",item[3],\"      \",weight[3],\"       \",value[3])"
   ]
  },
  {
   "cell_type": "code",
   "execution_count": null,
   "id": "d2c169a8-19fb-41b0-bb93-64e12b527bc6",
   "metadata": {},
   "outputs": [],
   "source": []
  }
 ],
 "metadata": {
  "kernelspec": {
   "display_name": "Python 3",
   "language": "python",
   "name": "python3"
  },
  "language_info": {
   "codemirror_mode": {
    "name": "ipython",
    "version": 3
   },
   "file_extension": ".py",
   "mimetype": "text/x-python",
   "name": "python",
   "nbconvert_exporter": "python",
   "pygments_lexer": "ipython3",
   "version": "3.9.2"
  }
 },
 "nbformat": 4,
 "nbformat_minor": 5
}
